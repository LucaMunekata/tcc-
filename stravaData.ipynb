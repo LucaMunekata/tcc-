{
 "cells": [
  {
   "cell_type": "markdown",
   "metadata": {},
   "source": [
    "<h1>Análises com dados do Strava Metro</h1>\n",
    "<h2>Carregando arquivos .csv e importnado bibliotecas</h2>"
   ]
  },
  {
   "cell_type": "code",
   "execution_count": 1,
   "metadata": {},
   "outputs": [],
   "source": [
    "import pandas as pd\n",
    "import geopandas as gpd\n",
    "import folium\n",
    "import matplotlib.pyplot as plt\n",
    "import numpy as np\n",
    "from branca.colormap import linear\n",
    "from ipywidgets import Dropdown, Output, VBox\n",
    "from IPython.display import display, clear_output\n",
    "#from ipywidgets import interact\n",
    "\n",
    "month = ['jan', 'fev', 'mar', 'abr', \n",
    "          'mai', 'jun', 'jul', 'ago', \n",
    "          'set', 'out', 'nov', 'dez']\n",
    "monthNum = ['12', '01', '02', '03',\n",
    "            '04', '05', '06', '07',\n",
    "            '08', '09', '10', '11']\n",
    "year = 23\n",
    "n = 17\n",
    "data = [0 for _ in range(n + 1)]\n",
    "perHour = [0 for _ in range(24)]\n"
   ]
  },
  {
   "cell_type": "code",
   "execution_count": null,
   "metadata": {},
   "outputs": [],
   "source": [
    "for i in range(1, n):\n",
    "    yearUpdate = year + ((i - 1) // 12)\n",
    "    df = pd.read_csv(f'csvs/20{yearUpdate}-{monthNum[i % 12]}.csv')\n",
    "    df['time'] = df['hour'].str.split('T').str[1]\n",
    "    grouped = df.groupby('time')['total_trip_count'].sum()\n",
    "    for time, total_trip_count in grouped.items():\n",
    "        hour_index = int(time) \n",
    "        perHour[hour_index] += total_trip_count\n",
    "        data[i] = df['total_trip_count'].sum()\n",
    "\n",
    "print(data)"
   ]
  },
  {
   "cell_type": "code",
   "execution_count": null,
   "metadata": {},
   "outputs": [],
   "source": [
    "total2= 0\n",
    "total = 0\n",
    "\n",
    "for i in range(24):\n",
    "    total += perHour[i]\n",
    "\n",
    "for i in range(13):\n",
    "    total2 += 0\n",
    "\n",
    "print(total)\n",
    "print(total2)"
   ]
  },
  {
   "cell_type": "markdown",
   "metadata": {},
   "source": [
    "<h2>Total de viagens por mês</h2>"
   ]
  },
  {
   "cell_type": "code",
   "execution_count": null,
   "metadata": {},
   "outputs": [],
   "source": [
    "def total_de_viagens(data):\n",
    "    plt.figure(figsize=(14, 6))\n",
    "\n",
    "    x_positions = np.arange(1, n)\n",
    "    x_labels = [f'{month[i % 12 - 1]}' + '/' + f'{year + (i // 12)}' for i in range(1, n)]\n",
    "    for i in range(1, n):\n",
    "        plt.bar(i, data[i] / 1000000, color = 'red')\n",
    "        plt.text(i, data[i] / 1000000, f'{data[i] / 1000000:.2f}', ha='center', va='bottom')\n",
    "\n",
    "    plt.xticks(x_positions, x_labels)\n",
    "    plt.title('Viagens por mês')\n",
    "    plt.xlabel('Mês/Ano')\n",
    "    plt.ylabel('Quantidade de viagens no mês (em milhões)')\n",
    "    plt.grid(True, axis='y', linestyle='--', alpha=0.7)\n",
    "    plt.show()\n",
    "\n",
    "total_de_viagens(data)"
   ]
  },
  {
   "cell_type": "markdown",
   "metadata": {},
   "source": [
    "<h2>edges</h2>"
   ]
  },
  {
   "cell_type": "code",
   "execution_count": null,
   "metadata": {},
   "outputs": [],
   "source": [
    "edges = gpd.read_file('edges/d71663f99c55ec3269ebde83b71ba106b038c992e6481967d9a95e80e79ba5f6-1716492978093.shp')\n",
    "edges.crs = 'epsg:4326'\n",
    "\n",
    "map_sp = folium.Map(location=[-23.5789, -46.6388], tiles=\"CartoDB Positron\", zoom_start=11)\n",
    "\n",
    "dropdown = Dropdown(\n",
    "    options = [('Select Zone', None), ('Blue', 'blue'), ('Yellow', 'yellow'), ('Red', 'red')],\n",
    "    value = None,\n",
    "    description = 'color: ' \n",
    ")\n",
    "\n",
    "map_output = Output()\n",
    "\n",
    "def update_map(color):\n",
    "    with map_output:\n",
    "        clear_output(wait=True)\n",
    "        if color is None:\n",
    "            display(map_sp)\n",
    "            return\n",
    "        # #df2 = pd.read_csv(f'csvs/2023-01.csv')\n",
    "        \n",
    "        # grouped_df = df2.groupby('edge_uid')['total_trip_count'].sum().reset_index()\n",
    "        # merged_data = pd.merge(grouped_df, edges, left_on='edge_uid', right_on='edgeUID')\n",
    "    \n",
    "        # min_trip_count = merged_data['total_trip_count'].min()\n",
    "        # max_trip_count = 250\n",
    "        \n",
    "        # #colormap = linear.YlOrRd_09.scale(min_trip_count, max_trip_count)\n",
    "    \n",
    "        # for _, row in edges.iterrows():\n",
    "        #     #color = colormap(row['total_trip_count'])\n",
    "\n",
    "        map2 = folium.Map(location=[-23.5789, -46.6388], tiles=\"CartoDB Positron\", zoom_start=11)\n",
    "        folium.GeoJson(\n",
    "            #row['geometry'],\n",
    "            edges,\n",
    "            style_function=lambda feature: {\n",
    "                'color': color,\n",
    "                'weight': 2,\n",
    "                'opacity': 1,\n",
    "            }\n",
    "        ).add_to(map2)\n",
    "    \n",
    "        display(map2)\n",
    "\n",
    "    #colormap.add_to(map_sp)\n",
    "\n",
    "dropdown.observe(lambda change: update_map(change['new']), names='value')\n",
    "\n",
    "display(VBox([dropdown, map_output]))\n",
    "\n",
    "with map_output:\n",
    "    display(map_sp)"
   ]
  },
  {
   "cell_type": "code",
   "execution_count": null,
   "metadata": {},
   "outputs": [],
   "source": []
  }
 ],
 "metadata": {
  "kernelspec": {
   "display_name": "Python 3 (ipykernel)",
   "language": "python",
   "name": "python3"
  },
  "language_info": {
   "codemirror_mode": {
    "name": "ipython",
    "version": 3
   },
   "file_extension": ".py",
   "mimetype": "text/x-python",
   "name": "python",
   "nbconvert_exporter": "python",
   "pygments_lexer": "ipython3",
   "version": "3.12.3"
  }
 },
 "nbformat": 4,
 "nbformat_minor": 4
}

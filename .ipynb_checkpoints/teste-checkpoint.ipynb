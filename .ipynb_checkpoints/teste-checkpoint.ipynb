{
 "cells": [
  {
   "cell_type": "code",
   "execution_count": 4,
   "id": "704ccf8d-d841-41a7-9713-54f802841cfc",
   "metadata": {},
   "outputs": [
    {
     "ename": "ModuleNotFoundError",
     "evalue": "No module named 'geopandas'",
     "output_type": "error",
     "traceback": [
      "\u001b[1;31m---------------------------------------------------------------------------\u001b[0m",
      "\u001b[1;31mModuleNotFoundError\u001b[0m                       Traceback (most recent call last)",
      "Cell \u001b[1;32mIn[4], line 1\u001b[0m\n\u001b[1;32m----> 1\u001b[0m \u001b[38;5;28;01mimport\u001b[39;00m \u001b[38;5;21;01msp_grid\u001b[39;00m \u001b[38;5;28;01mas\u001b[39;00m \u001b[38;5;21;01mgr\u001b[39;00m\n\u001b[0;32m      3\u001b[0m \u001b[38;5;28;01mimport\u001b[39;00m \u001b[38;5;21;01mpandas\u001b[39;00m \u001b[38;5;28;01mas\u001b[39;00m \u001b[38;5;21;01mpd\u001b[39;00m\n\u001b[0;32m      4\u001b[0m \u001b[38;5;28;01mimport\u001b[39;00m \u001b[38;5;21;01mfolium\u001b[39;00m\n",
      "File \u001b[1;32m~\\OneDrive\\Área de Trabalho\\TCC\\sp_grid.py:1\u001b[0m\n\u001b[1;32m----> 1\u001b[0m \u001b[38;5;28;01mimport\u001b[39;00m \u001b[38;5;21;01mgrid\u001b[39;00m\n\u001b[0;32m      2\u001b[0m \u001b[38;5;28;01mimport\u001b[39;00m \u001b[38;5;21;01mfolium\u001b[39;00m\n\u001b[0;32m      4\u001b[0m SP_LAT \u001b[38;5;241m=\u001b[39m \u001b[38;5;241m-\u001b[39m\u001b[38;5;241m23.5789\u001b[39m\n",
      "File \u001b[1;32m~\\OneDrive\\Área de Trabalho\\TCC\\grid.py:3\u001b[0m\n\u001b[0;32m      1\u001b[0m \u001b[38;5;28;01mimport\u001b[39;00m \u001b[38;5;21;01mnumpy\u001b[39;00m \u001b[38;5;28;01mas\u001b[39;00m \u001b[38;5;21;01mnp\u001b[39;00m\n\u001b[0;32m      2\u001b[0m \u001b[38;5;28;01mfrom\u001b[39;00m \u001b[38;5;21;01mshapely\u001b[39;00m\u001b[38;5;21;01m.\u001b[39;00m\u001b[38;5;21;01mgeometry\u001b[39;00m \u001b[38;5;28;01mimport\u001b[39;00m box\n\u001b[1;32m----> 3\u001b[0m \u001b[38;5;28;01mimport\u001b[39;00m \u001b[38;5;21;01mgeopandas\u001b[39;00m \u001b[38;5;28;01mas\u001b[39;00m \u001b[38;5;21;01mgpd\u001b[39;00m\n\u001b[0;32m      4\u001b[0m \u001b[38;5;28;01mimport\u001b[39;00m \u001b[38;5;21;01mfolium\u001b[39;00m\n\u001b[0;32m      5\u001b[0m \u001b[38;5;28;01mfrom\u001b[39;00m \u001b[38;5;21;01mgeopy\u001b[39;00m\u001b[38;5;21;01m.\u001b[39;00m\u001b[38;5;21;01mdistance\u001b[39;00m \u001b[38;5;28;01mimport\u001b[39;00m distance\n",
      "\u001b[1;31mModuleNotFoundError\u001b[0m: No module named 'geopandas'"
     ]
    }
   ],
   "source": [
    "import sp_grid as gr\n",
    "\n",
    "import pandas as pd\n",
    "import folium\n",
    "import json\n",
    "\n",
    "bike_lanes = \\\n",
    "        gpd.read_file('../data/sao-paulo/geosampa/SIRGAS_SHP_redecicloviaria/SIRGAS_SHP_redecicloviaria.shp')\n",
    "bike_lanes.crs = {'init': 'epsg:31983'}  \n",
    "bike_lanes.to_crs(epsg='4326', inplace=True)\n",
    "\n",
    "protected_color = 'red'   # ciclovias\n",
    "sharrow_color = 'orange'  # ciclorrotas\n",
    "trail_color = 'green'     # ciclofaixas\n",
    "\n",
    "style_grid = lambda x: {'color': 'black', 'weight': 1, 'opacity': 0.3, 'fillOpacity': 0.0}\n",
    "style_sharrow = lambda style:{'color':sharrow_color, 'weight': 2}\n",
    "style_protected = lambda style:{'color':protected_color, 'weight': 2}\n",
    "style_trail = lambda style:{'color':trail_color, 'weight': 2}\n",
    "\n",
    "# map offsets\n",
    "west_offset=-0.15\n",
    "east_offset=0.23\n",
    "north_offset=0.19\n",
    "south_offset=-0.46\n",
    "grid = gr.create(n = 100, \n",
    "                 west_offset=west_offset, east_offset=east_offset, north_offset=north_offset, \n",
    "                 south_offset=south_offset)\n",
    "\n",
    "the_grid = None\n",
    "\n",
    "default_grid=20\n",
    "flow.N = 20\n",
    "\n",
    "def plot_grid(fmap, grid):\n",
    "    folium.GeoJson(grid.geodataframe().to_json(), name='Grid', style_function=style_grid).add_to(fmap)\n",
    "\n",
    "def plot_cycling_infrastructure(fmap):\n",
    "    folium.GeoJson(bike_lanes.loc[bike_lanes['rc_tipo'] == 'ciclorrota'],\n",
    "                   style_function = style_sharrow,\n",
    "                   name='Ciclorrota').add_to(fmap)\n",
    "    folium.GeoJson(bike_lanes.loc[bike_lanes['rc_tipo'] == 'ciclovia'],\n",
    "                   style_function = style_protected,\n",
    "                   name='Ciclovia').add_to(fmap)\n",
    "    folium.GeoJson(bike_lanes.loc[bike_lanes['rc_tipo'] == 'ciclofaixa'],\n",
    "                   style_function = style_trail,\n",
    "                   name='Ciclofaixa').add_to(fmap)\n",
    "\n",
    "'''\n",
    "def set_grid_limits(west_delta, east_delta, north_delta, south_delta, grid_size):\n",
    "    global grid\n",
    "    grid = gr.create(n=grid_size, \n",
    "                     west_offset=west_delta, east_offset=east_delta, \n",
    "                     north_offset=north_delta, south_offset=south_delta)\n",
    "    fmap = grid.map_around(zoom=12)\n",
    "\n",
    "    folium.Marker([gr.SP_LAT, gr.SP_LON]).add_to(fmap)\n",
    "    display(fmap)\n",
    "    '''\n",
    "\n",
    "def plot_map():\n",
    "    global the_grid\n",
    "    the_grid = gr.create(n = 100, west_offset = -0.15, east_offset = 0.23, north_offset = 0.19, south_offset = -0.46)\n",
    "\n",
    "    fmap = gr.map_around_sp(the_grid, zoom = 12)\n",
    "\n",
    "    plot_cycling_infrastructure(fmap)\n",
    "\n",
    "plot_map()"
   ]
  },
  {
   "cell_type": "code",
   "execution_count": null,
   "id": "1d80aa67-6b53-44b4-9e94-0f8a637a3781",
   "metadata": {},
   "outputs": [],
   "source": []
  }
 ],
 "metadata": {
  "kernelspec": {
   "display_name": "Python 3 (ipykernel)",
   "language": "python",
   "name": "python3"
  },
  "language_info": {
   "codemirror_mode": {
    "name": "ipython",
    "version": 3
   },
   "file_extension": ".py",
   "mimetype": "text/x-python",
   "name": "python",
   "nbconvert_exporter": "python",
   "pygments_lexer": "ipython3",
   "version": "3.12.1"
  }
 },
 "nbformat": 4,
 "nbformat_minor": 5
}

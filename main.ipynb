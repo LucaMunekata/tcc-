{
 "cells": [
  {
   "cell_type": "code",
   "execution_count": 1,
   "id": "c929504c-6919-4154-bfdd-fab988265d94",
   "metadata": {},
   "outputs": [],
   "source": [
    "import pandas as pd\n",
    "import geopandas as gpd\n",
    "import folium\n",
    "import branca\n",
    "import datetime\n",
    "from matplotlib import colors, colormaps\n",
    "import matplotlib.pyplot as plt\n",
    "from ipywidgets import widgets, Dropdown, RadioButtons, Output, VBox, HBox\n",
    "from IPython.display import display, clear_output"
   ]
  },
  {
   "cell_type": "markdown",
   "id": "54421310-97aa-44a0-803e-de286cee6479",
   "metadata": {},
   "source": [
    "<h1>Carregando shapefiles (.shp) referentes às arestas, zonas e distritos</h1>"
   ]
  },
  {
   "cell_type": "code",
   "execution_count": 2,
   "id": "82a861ed-8f04-436e-a720-daf974d515ec",
   "metadata": {},
   "outputs": [],
   "source": [
    "df = pd.read_csv('csvs/2024-01.csv')\n",
    "dfo = pd.read_csv('csvs-hex/2024-01o.csv')\n",
    "dfd = pd.read_csv('csvs-hex/2024-01d.csv')\n",
    "\n",
    "hexs = gpd.read_file('hexs/base_hexs.shp')\n",
    "\n",
    "edges = gpd.read_file('edges/base_edges.shp')\n",
    "edges.crs = 'epsg:4326'\n",
    "\n",
    "zonas_od = gpd.read_file('OD-2017/Mapas-OD2017/Shape-OD2017/Zonas_2017_region.shp')\n",
    "\n",
    "zonas_sp = zonas_od[zonas_od['NumeroMuni'] == 36]\n",
    "\n",
    "# distritos = gpd.read_file('GeoSampa/SIRGAS_SHP_distrito/SIRGAS_SHP_distrito/SIRGAS_SHP_distrito.shp')\n",
    "# subprefeituras = gpd.read_file('GeoSampa/SIRGAS_SHP_subprefeitura/SIRGAS_SHP_subprefeitura_polygon.shp')\n",
    "distritos = gpd.read_file('edited shapefiles/edited_distritos.shp')\n",
    "subprefeituras = gpd.read_file('edited shapefiles/edited_subprefeituras.shp')\n",
    "distritos.set_crs(epsg=31983, inplace=True)\n",
    "subprefeituras.set_crs(epsg=31983, inplace=True)\n",
    "\n",
    "if edges.crs != zonas_sp.crs:\n",
    "    zonas_sp = zonas_sp.to_crs(edges.crs)\n",
    "if edges.crs != distritos.crs:\n",
    "    distritos = distritos.to_crs(edges.crs)\n",
    "if edges.crs != subprefeituras.crs:\n",
    "    subprefeituras = subprefeituras.to_crs(edges.crs)"
   ]
  },
  {
   "cell_type": "code",
   "execution_count": 3,
   "id": "18003afe-e72e-4805-9f59-7ef17ae984f4",
   "metadata": {},
   "outputs": [],
   "source": [
    "df['total_leisure_trip_count'] = df['forward_leisure_trip_count'] + df['reverse_leisure_trip_count']\n",
    "df['total_commute_trip_count'] = df['forward_commute_trip_count'] + df['reverse_commute_trip_count']\n",
    "df['18-34'] = df['forward_18_34_people_count'] + df['reverse_18_34_people_count']\n",
    "df['35-54'] = df['forward_35_54_people_count'] + df['reverse_35_54_people_count']\n",
    "df['55-64'] = df['forward_55_64_people_count'] + df['reverse_55_64_people_count']\n",
    "df['65+'] = df['forward_65_plus_people_count'] + df['reverse_65_plus_people_count']\n",
    "df['Masculino'] = df['forward_male_people_count'] + df['reverse_male_people_count']\n",
    "df['Feminino'] = df['forward_female_people_count'] + df['reverse_female_people_count']\n",
    "df['Não Especificado'] = df['forward_unspecified_people_count'] + df['reverse_unspecified_people_count']\n",
    "    \n",
    "df = df.drop(columns=['forward_leisure_trip_count', 'reverse_leisure_trip_count', \n",
    "                                'forward_commute_trip_count', 'reverse_commute_trip_count',\n",
    "                                'forward_18_34_people_count', 'reverse_18_34_people_count',\n",
    "                                'forward_35_54_people_count', 'reverse_35_54_people_count',\n",
    "                                'forward_55_64_people_count', 'reverse_55_64_people_count',\n",
    "                                'forward_65_plus_people_count', 'reverse_65_plus_people_count',\n",
    "                                'forward_male_people_count', 'reverse_male_people_count',\n",
    "                                'forward_female_people_count', 'reverse_female_people_count',\n",
    "                                'forward_unspecified_people_count', 'reverse_unspecified_people_count'])\n"
   ]
  },
  {
   "cell_type": "markdown",
   "id": "3bf8a4d0-1502-4459-b55d-d760b7ad1b0e",
   "metadata": {},
   "source": [
    "<h2>Radio Buttons e Dropdowns</h2>"
   ]
  },
  {
   "cell_type": "code",
   "execution_count": 4,
   "id": "614ecee4-4989-445d-99cc-de4b259179ac",
   "metadata": {},
   "outputs": [],
   "source": [
    "granularidade = widgets.RadioButtons(\n",
    "    options=['Geral', 'Zonas', 'Distritos', 'Subprefeituras'],\n",
    "    value='Geral',\n",
    "    description='Granularidade:',\n",
    ")\n",
    "\n",
    "granularidade_od = widgets.RadioButtons(\n",
    "    options=['Geral', 'Zonas', 'Distritos', 'Subprefeituras'],\n",
    "    value='Geral',\n",
    "    description='Granularidade:',\n",
    ")\n",
    "\n",
    "idade = widgets.RadioButtons(\n",
    "    options=['Qualquer', '18-34', '35-54', '55-64', '65+'],\n",
    "    value='Qualquer',\n",
    "    description='Idade:',\n",
    ")\n",
    "\n",
    "genero = widgets.RadioButtons(\n",
    "    options=['Qualquer', 'Feminino', 'Masculino', 'Não especificado'],\n",
    "    value='Qualquer',\n",
    "    description='Gênero:',\n",
    ")\n",
    "\n",
    "sorted_zonas = zonas_sp.sort_values(by='NomeZona')\n",
    "zone_dropdown = Dropdown(\n",
    "    options=[('Selecione uma zona', None)] + \n",
    "            [(f\"{row['NomeZona']}\", row['NumeroZona']) for index, row in sorted_zonas.iterrows()],\n",
    "    value=None,\n",
    "    description='Zona:',\n",
    ")\n",
    "\n",
    "zone_dropdown_od = Dropdown(\n",
    "    options=[('Selecione uma zona', None)] + \n",
    "            [(f\"{row['NomeZona']}\", row['NumeroZona']) for index, row in sorted_zonas.iterrows()],\n",
    "    value=None,\n",
    "    description='Zona:',\n",
    ")\n",
    "\n",
    "distritos_dropdown = Dropdown(\n",
    "    options=[('Selecione um distrito', None)] + \n",
    "            [(f\"{row['ds_nome']}\", row['ds_codigo']) for index, row in distritos.iterrows()],\n",
    "    value=None,\n",
    "    description='Distrito:',\n",
    ")\n",
    "\n",
    "distritos_dropdown_od = Dropdown(\n",
    "    options=[('Selecione um distrito', None)] + \n",
    "            [(f\"{row['ds_nome']}\", row['ds_codigo']) for index, row in distritos.iterrows()],\n",
    "    value=None,\n",
    "    description='Distrito:',\n",
    ")\n",
    "\n",
    "subprefeituras_dropdown = Dropdown(\n",
    "    options=[('Selecione uma subprefeitura', None)] + \n",
    "            [(f\"{row['sp_nome']}\", row['sp_codigo']) for index, row in subprefeituras.iterrows()],\n",
    "    value=None,\n",
    "    description='Subprefeituras:',\n",
    ")\n",
    "\n",
    "subprefeituras_dropdown_od = Dropdown(\n",
    "    options=[('Selecione uma subprefeitura', None)] + \n",
    "            [(f\"{row['sp_nome']}\", row['sp_codigo']) for index, row in subprefeituras.iterrows()],\n",
    "    value=None,\n",
    "    description='Subprefeituras:',\n",
    ")\n",
    "\n",
    "state = {'granularidade': granularidade.value, 'idade': idade.value, 'genero': genero.value, 'granularidade_od': granularidade_od.value}"
   ]
  },
  {
   "cell_type": "markdown",
   "id": "856bca58-ceb8-48b5-94dc-cd66cfaf9677",
   "metadata": {},
   "source": [
    "<h2>Modelos mapas por limite administrativo</h2>"
   ]
  },
  {
   "cell_type": "code",
   "execution_count": 5,
   "id": "dbec95a6-0dae-4b63-9519-6f26e03cdc48",
   "metadata": {},
   "outputs": [
    {
     "data": {
      "text/plain": [
       "<folium.map.LayerControl at 0x249b7759610>"
      ]
     },
     "execution_count": 5,
     "metadata": {},
     "output_type": "execute_result"
    }
   ],
   "source": [
    "# Mapa padrão - distritos\n",
    "m_distritos = folium.Map(location=[-23.5789, -46.6388], tiles=\"CartoDB Positron\", zoom_start=11)\n",
    "folium.GeoJson(\n",
    "    distritos,\n",
    "    name='Distritos',\n",
    "    style_function=lambda feature: {\n",
    "        'weight': 2,\n",
    "        'color': 'black',\n",
    "        'fillOpacity': 0.1\n",
    "    }\n",
    ").add_to(m_distritos)\n",
    "folium.LayerControl().add_to(m_distritos)\n",
    "\n",
    "# Mapa padrão - zonas\n",
    "m_zonas = folium.Map(location=[-23.5789, -46.6388], tiles=\"CartoDB Positron\", zoom_start=11)\n",
    "folium.GeoJson(\n",
    "    zonas_sp,\n",
    "    name='Zonas',\n",
    "    style_function=lambda feature: {\n",
    "        'weight': 2,\n",
    "        'color': 'black',\n",
    "        'fillOpacity': 0.1\n",
    "    }\n",
    ").add_to(m_zonas)\n",
    "folium.LayerControl().add_to(m_zonas)\n",
    "\n",
    "# Mapa padrão - subprefeituras\n",
    "m_subprefeituras = folium.Map(location=[-23.5789, -46.6388], tiles=\"CartoDB Positron\", zoom_start=11)\n",
    "folium.GeoJson(\n",
    "    subprefeituras,\n",
    "    name='Subprefeituras',\n",
    "    style_function=lambda feature: {\n",
    "        'weight': 2,\n",
    "        'color': 'black',\n",
    "        'fillOpacity': 0.1\n",
    "    }\n",
    ").add_to(m_subprefeituras)\n",
    "folium.LayerControl().add_to(m_subprefeituras)"
   ]
  },
  {
   "cell_type": "markdown",
   "id": "3dad5951-3372-496c-9959-1720c2f75ea6",
   "metadata": {},
   "source": [
    "<h2>Zonas OD / Distritos / Subprefeituras</h2>"
   ]
  },
  {
   "cell_type": "code",
   "execution_count": 6,
   "id": "8c5e738b-fbf5-404a-b896-22d1b3859153",
   "metadata": {},
   "outputs": [
    {
     "data": {
      "application/vnd.jupyter.widget-view+json": {
       "model_id": "eb5bcf1a2d4a4ebda2884e69a336edd4",
       "version_major": 2,
       "version_minor": 0
      },
      "text/plain": [
       "HBox(children=(RadioButtons(description='Granularidade:', options=('Geral', 'Zonas', 'Distritos', 'Subprefeitu…"
      ]
     },
     "metadata": {},
     "output_type": "display_data"
    },
    {
     "data": {
      "application/vnd.jupyter.widget-view+json": {
       "model_id": "569e726d26b14460b196b17516e72e3c",
       "version_major": 2,
       "version_minor": 0
      },
      "text/plain": [
       "Output()"
      ]
     },
     "metadata": {},
     "output_type": "display_data"
    },
    {
     "data": {
      "application/vnd.jupyter.widget-view+json": {
       "model_id": "d33dab29f0774eabbf22082ab97f2b2d",
       "version_major": 2,
       "version_minor": 0
      },
      "text/plain": [
       "VBox(children=(Output(), Output(), Output()))"
      ]
     },
     "metadata": {},
     "output_type": "display_data"
    }
   ],
   "source": [
    "# Outputs\n",
    "map_output = Output()\n",
    "table_output = Output()\n",
    "dropdown_output = Output()\n",
    "debug_output = Output()\n",
    "\n",
    "display(HBox([granularidade, idade, genero]), dropdown_output, VBox([map_output, table_output, debug_output]))\n",
    "\n",
    "def get_color(grouped, uid, min_val, max_val, col, count):\n",
    "    if uid not in grouped[col].values:\n",
    "        norm = colors.Normalize(vmin=min_val, vmax=max_val)\n",
    "        color_value = norm(min_val)\n",
    "        return colors.to_hex(cmap(color_value))\n",
    "    \n",
    "    total_trips = grouped[grouped[col] == uid][count].values[0]\n",
    "    norm = colors.Normalize(vmin=min_val, vmax=max_val)\n",
    "    \n",
    "    color_value = norm(total_trips)\n",
    "    return colors.to_hex(cmap(color_value))\n",
    "\n",
    "# Normalização de valores das escalas\n",
    "def get_normalization_values(grouped_edges):\n",
    "    min_val = grouped_edges['total_trip_count'].min()\n",
    "    max_val = grouped_edges['total_trip_count'].max()\n",
    "    return min_val, max_val\n",
    "\n",
    "# Mudança no mapa por granularidade\n",
    "def update_map(granularidade):\n",
    "    with map_output:\n",
    "        map_output.clear_output(wait=True)\n",
    "        \n",
    "        if granularidade == \"Geral\":\n",
    "            with dropdown_output:\n",
    "                dropdown_output.clear_output(wait=True)\n",
    "            display(m_distritos)\n",
    "            \n",
    "        elif granularidade == 'Zonas':\n",
    "            with dropdown_output:\n",
    "                dropdown_output.clear_output(wait=True)\n",
    "                display(zone_dropdown)\n",
    "            display(m_zonas)\n",
    "\n",
    "        elif granularidade == 'Distritos':\n",
    "            with dropdown_output:\n",
    "                dropdown_output.clear_output(wait=True)\n",
    "                display(distritos_dropdown)\n",
    "            display(m_distritos)\n",
    "            \n",
    "        elif granularidade == 'Subprefeituras':\n",
    "            with dropdown_output:\n",
    "                dropdown_output.clear_output(wait=True)\n",
    "                display(subprefeituras_dropdown)\n",
    "            display(m_subprefeituras)\n",
    "\n",
    "# Mudança de zona/distrito/subprefeitura a partir da seleção do usuário\n",
    "def update_loc(gran, age, gender):\n",
    "    loc_id = gran\n",
    "        \n",
    "    if loc_id is None:\n",
    "        return\n",
    "\n",
    "    selected_loc_map = folium.Map(location=[-23.5789, -46.6388], tiles=\"CartoDB Positron\", zoom_start=11)\n",
    "    \n",
    "    if granularidade.value == \"Zonas\":\n",
    "        full_map = zonas_sp\n",
    "        grouped_edges = grouped_edges_in_zones\n",
    "        sufix = 'da Zona'\n",
    "        selected_loc = zonas_sp[zonas_sp[\"NumeroZona\"] == loc_id]\n",
    "        name = selected_loc['NomeZona'].iloc[0]\n",
    "        table_data = trips_per_zone[trips_per_zone['NumeroZona'] == loc_id].reset_index(drop=True)\n",
    "        table_data = table_data.rename(columns={'NomeZona': 'Nome da Zona', \n",
    "                                                'total_trip_count': 'Total de viagens'})\n",
    "        \n",
    "    elif granularidade.value == \"Distritos\":\n",
    "        full_map = distritos\n",
    "        grouped_edges = grouped_edges_in_districts\n",
    "        sufix = 'do Distrito'\n",
    "        selected_loc = distritos[distritos[\"ds_codigo\"] == loc_id]\n",
    "        name = selected_loc['ds_nome'].iloc[0]\n",
    "        table_data = trips_per_district[trips_per_district['ds_nome'] == name].reset_index(drop=True)\n",
    "        table_data = table_data.rename(columns={'ds_nome': 'Nome do distrito', \n",
    "                                                'total_trip_count': 'Total de viagens'})\n",
    "        \n",
    "    elif granularidade.value == \"Subprefeituras\":\n",
    "        full_map = subprefeituras\n",
    "        grouped_edges = grouped_edges_in_subprefeituras\n",
    "        sufix = 'da Subprefeitura'\n",
    "        selected_loc = subprefeituras[subprefeituras[\"sp_codigo\"] == loc_id]\n",
    "        name = selected_loc['sp_nome'].iloc[0]\n",
    "        table_data = trips_per_subprefeituras[trips_per_subprefeituras['sp_nome'] == name].reset_index(drop=True)\n",
    "        table_data = table_data.rename(columns={'sp_nome': 'Nome da subprefeitura', \n",
    "                                                'total_trip_count': 'Total de viagens'})\n",
    "\n",
    "    # with debug_output:\n",
    "    #     debug_output.clear_output(wait=True)  \n",
    "    #     print(f\"age: {age}\")\n",
    "    #     print(f\"loc-id: {loc_id}\")\n",
    "    #     print(f\"gender: {gender}\")\n",
    "\n",
    "    if age is not None and age != \"Qualquer\":\n",
    "        table_data = table_data[[col for col in table_data.columns if col in ['Nome da Zona', 'Nome do distrito', 'Nome da subprefeitura', 'Total de viagens', age]]]\n",
    "\n",
    "    if selected_loc.empty:\n",
    "        with debug_output:\n",
    "            print(\"No matching data found for the selected loc_id.\")\n",
    "        return\n",
    "\n",
    "    filtered_edges = gpd.overlay(edges, selected_loc, how=\"intersection\")\n",
    "    selected_edges = grouped_edges[grouped_edges['edgeUID'].isin(filtered_edges['edgeUID'])]\n",
    "    min_val, max_val = selected_edges['total_trip_count'].min(), selected_edges['total_trip_count'].max()\n",
    "\n",
    "    # realça a zona/distrito/subprefeitura escolhida\n",
    "    folium.GeoJson(\n",
    "        selected_loc,\n",
    "        style_function=lambda feature: {\n",
    "            'weight': 0,\n",
    "            'color': 'black',\n",
    "            'fillOpacity': 0.1\n",
    "        }\n",
    "    ).add_to(selected_loc_map)\n",
    "\n",
    "    # adiciona os demais zona/distrito/subprefeitura\n",
    "    # folium.GeoJson(\n",
    "    #     full_map,\n",
    "    #     style_function=lambda feature: {\n",
    "    #         'weight': 2,\n",
    "    #         'color': color,\n",
    "    #         'fillOpacity': 0\n",
    "    #     }\n",
    "    # ).add_to(selected_loc_map)\n",
    "\n",
    "    with debug_output:\n",
    "         debug_output.clear_output(wait=True)  \n",
    "         print('here')\n",
    "\n",
    "    # adiciona os edges correspondente a zona/distrito/subprefeitura escolhida\n",
    "    folium.GeoJson(\n",
    "        filtered_edges,\n",
    "        style_function=lambda feature: {\n",
    "            'weight': 2,\n",
    "            'color': get_color(selected_edges, feature['properties']['edgeUID'], min_val, max_val, 'edgeUID', 'total_trip_count')\n",
    "        },\n",
    "    ).add_to(selected_loc_map)\n",
    "\n",
    "    # Limites geográficos (bounds) zona/distrito/subprefeitura para focar visualização (zoom)\n",
    "    bounds = selected_loc.geometry.total_bounds\n",
    "    sw = [bounds[1], bounds[0]]\n",
    "    ne = [bounds[3], bounds[2]]\n",
    "    selected_loc_map.fit_bounds([sw, ne])\n",
    "    folium.LayerControl().add_to(selected_loc_map)\n",
    "\n",
    "    with map_output:\n",
    "        map_output.clear_output(wait=True)\n",
    "        display(selected_loc_map)\n",
    "\n",
    "    styled_table = table_data.style \\\n",
    "        .hide(axis='index') \\\n",
    "        .set_table_styles({\n",
    "            f'Nome {sufix}': [{'selector': 'td, th', 'props': 'width: 200px; text-align: center;'}],\n",
    "            'Total de viagens': [{'selector': 'td, th', 'props': 'width: 100px; text-align: center;'}]\n",
    "        }) \\\n",
    "        .set_properties(**{'text-align': 'center', 'padding': '10px'}) \\\n",
    "        .format(thousands=\".\")\n",
    "\n",
    "    with table_output:\n",
    "        table_output.clear_output(wait=True)\n",
    "        display(styled_table)\n",
    "\n",
    "# ações com mudança dos Radio Butttons\n",
    "def on_value_change(change):\n",
    "    if change['owner'] is granularidade:\n",
    "        state['granularidade'] = change['new']\n",
    "        update_map(state['granularidade'])\n",
    "    elif change['owner'] is idade:\n",
    "        state['idade'] = change['new']\n",
    "        loc_id = None\n",
    "        if granularidade.value == 'Zonas':\n",
    "            loc_id = zone_dropdown.value\n",
    "        elif granularidade.value == 'Distritos':\n",
    "            loc_id = distritos_dropdown.value\n",
    "        elif granularidade.value == 'Subprefeituras':\n",
    "            loc_id = subprefeituras_dropdown.value\n",
    "        update_loc(loc_id, state['idade'], state['genero'])\n",
    "    elif change['owner'] is genero:\n",
    "        state['genero'] = change['new']\n",
    "        loc_id = None\n",
    "        if granularidade.value == 'Zonas':\n",
    "            loc_id = zone_dropdown.value\n",
    "        elif granularidade.value == 'Distritos':\n",
    "            loc_id = distritos_dropdown.value\n",
    "        elif granularidade.value == 'Subprefeituras':\n",
    "            loc_id = subprefeituras_dropdown.value\n",
    "        update_loc(loc_id, state['idade'], state['genero'])\n",
    "\n",
    "def compute_trip_counts(grouped_df):\n",
    "    trips = grouped_df[['total_trip_count', 'total_leisure_trip_count', 'total_commute_trip_count', '18-34', '35-54', '55-64', '65+']].sum().reset_index()\n",
    "    \n",
    "    return trips\n",
    "\n",
    "# Radio Buttons Observers \n",
    "granularidade.observe(on_value_change, names='value')\n",
    "idade.observe(on_value_change, names='value')\n",
    "genero.observe(on_value_change, names='value')\n",
    "\n",
    "# Dropdown Observers\n",
    "zone_dropdown.observe(lambda change: update_loc(change['new'], state['idade'], state['genero']), names='value')\n",
    "distritos_dropdown.observe(lambda change: update_loc(change['new'], state['idade'], state['genero']), names='value')\n",
    "subprefeituras_dropdown.observe(lambda change: update_loc(change['new'], state['idade'], state['genero']), names='value')\n",
    "\n",
    "update_map(state['granularidade'])\n",
    "\n",
    "edges_in_zones = gpd.sjoin(edges, zonas_sp, how=\"inner\", predicate=\"intersects\")\n",
    "df_merged_zones = pd.merge(df, edges_in_zones[['edgeUID', 'NumeroZona', 'NomeZona']], left_on='edge_uid', right_on='edgeUID', how='inner')\n",
    "grouped_edges_in_zones = df_merged_zones.groupby(['edgeUID', 'NumeroZona', 'NomeZona'])['total_trip_count'].sum().reset_index()\n",
    "grouped_zones = df_merged_zones.groupby(['NumeroZona', 'NomeZona'])\n",
    "\n",
    "edges_in_districts = gpd.sjoin(edges, distritos, how=\"inner\", predicate=\"intersects\")\n",
    "df_merged_districts = pd.merge(df, edges_in_districts[['edgeUID', 'ds_nome', 'ds_codigo']], left_on='edge_uid', right_on='edgeUID', how='inner')\n",
    "grouped_edges_in_districts = df_merged_districts.groupby(['edgeUID', 'ds_codigo', 'ds_nome'])['total_trip_count'].sum().reset_index()\n",
    "grouped_districts = df_merged_districts.groupby(['ds_nome'])\n",
    "\n",
    "edges_in_subprefeituras = gpd.sjoin(edges, subprefeituras, how=\"inner\", predicate=\"intersects\")\n",
    "df_merged_subprefeituras = pd.merge(df, edges_in_subprefeituras[['edgeUID', 'sp_nome', 'sp_codigo']], left_on='edge_uid', right_on='edgeUID', how='inner')\n",
    "grouped_edges_in_subprefeituras = df_merged_subprefeituras.groupby(['edgeUID', 'sp_codigo', 'sp_nome'])['total_trip_count'].sum().reset_index()\n",
    "grouped_subprefeituras = df_merged_subprefeituras.groupby(['sp_nome'])\n",
    "    \n",
    "cmap = colormaps.get_cmap('YlOrBr')\n",
    "\n",
    "trips_per_zone = compute_trip_counts(grouped_zones)\n",
    "trips_per_district = compute_trip_counts(grouped_districts)\n",
    "trips_per_subprefeituras = compute_trip_counts(grouped_subprefeituras)"
   ]
  },
  {
   "cell_type": "markdown",
   "id": "873c4af3-ed5f-408d-981d-d57390d69a61",
   "metadata": {},
   "source": [
    "<h2>Origens e Destinos por limite administrativo</h2>"
   ]
  },
  {
   "cell_type": "code",
   "execution_count": 7,
   "id": "46fa768b-f853-4036-a692-168eb778226e",
   "metadata": {},
   "outputs": [
    {
     "data": {
      "application/vnd.jupyter.widget-view+json": {
       "model_id": "c5fc6d1f77d44814a3b24bd6ef2179c6",
       "version_major": 2,
       "version_minor": 0
      },
      "text/plain": [
       "RadioButtons(description='Granularidade:', options=('Geral', 'Zonas', 'Distritos', 'Subprefeituras'), value='G…"
      ]
     },
     "metadata": {},
     "output_type": "display_data"
    },
    {
     "data": {
      "application/vnd.jupyter.widget-view+json": {
       "model_id": "0b88dcf6f30d44cf9db4ee6d937d5594",
       "version_major": 2,
       "version_minor": 0
      },
      "text/plain": [
       "Output()"
      ]
     },
     "metadata": {},
     "output_type": "display_data"
    },
    {
     "data": {
      "application/vnd.jupyter.widget-view+json": {
       "model_id": "5dc6d97ad0cd43fab03146713751a472",
       "version_major": 2,
       "version_minor": 0
      },
      "text/plain": [
       "Output()"
      ]
     },
     "metadata": {},
     "output_type": "display_data"
    },
    {
     "data": {
      "application/vnd.jupyter.widget-view+json": {
       "model_id": "565ad3f0735047bfb777a18bd03ac731",
       "version_major": 2,
       "version_minor": 0
      },
      "text/plain": [
       "Output()"
      ]
     },
     "metadata": {},
     "output_type": "display_data"
    }
   ],
   "source": [
    "od_map_output = Output()\n",
    "od_dropdown_output = Output()\n",
    "debug2 = Output()\n",
    "\n",
    "display(granularidade_od, od_dropdown_output, od_map_output, debug2)\n",
    "\n",
    "def update_map_od(granularidade_od):\n",
    "    with od_map_output:\n",
    "        od_map_output.clear_output(wait=True)\n",
    "        \n",
    "        if granularidade_od == \"Geral\":\n",
    "            with od_dropdown_output:\n",
    "                od_dropdown_output.clear_output(wait=True)\n",
    "            display(m_distritos)\n",
    "            \n",
    "        elif granularidade_od == 'Zonas':\n",
    "            with od_dropdown_output:\n",
    "                od_dropdown_output.clear_output(wait=True)\n",
    "                display(zone_dropdown_od)\n",
    "            display(m_zonas)\n",
    "\n",
    "        elif granularidade_od == 'Distritos':\n",
    "            with od_dropdown_output:\n",
    "                od_dropdown_output.clear_output(wait=True)\n",
    "                display(distritos_dropdown_od)\n",
    "            display(m_distritos)\n",
    "            \n",
    "        elif granularidade_od == 'Subprefeituras':\n",
    "            with od_dropdown_output:\n",
    "                od_dropdown_output.clear_output(wait=True)\n",
    "                display(subprefeituras_dropdown_od)\n",
    "            display(m_subprefeituras)\n",
    "\n",
    "def update_hexs(gran):\n",
    "    loc_id = gran\n",
    "    if loc_id is None:\n",
    "        return\n",
    "\n",
    "    hexs_map = folium.Map(location=[-23.5789, -46.6388], tiles=\"CartoDB Positron\", zoom_start=11)\n",
    "    \n",
    "    if granularidade_od.value == \"Zonas\":\n",
    "        grouped_hexs = grouped_zones_hex\n",
    "        selected_loc = zonas_sp[zonas_sp[\"NumeroZona\"] == loc_id]\n",
    "        \n",
    "    elif granularidade_od.value == \"Distritos\":\n",
    "        grouped_hexs = grouped_distritos_hex\n",
    "        selected_loc = distritos[distritos[\"ds_codigo\"] == loc_id]\n",
    "        \n",
    "    elif granularidade_od.value == \"Subprefeituras\":\n",
    "        grouped_hexs = grouped_subprefeituras_hex\n",
    "        selected_loc = subprefeituras[subprefeituras[\"sp_codigo\"] == loc_id]\n",
    "\n",
    "    filtered_hexs = gpd.overlay(hexs, selected_loc, how=\"intersection\")\n",
    "    selected_hexs = grouped_hexs[grouped_hexs['hex_id'].isin(filtered_hexs['hex_id'])]\n",
    "    min_val, max_val = selected_hexs['count'].min(), selected_hexs['count'].max()\n",
    "\n",
    "    with debug2:\n",
    "        debug2.clear_output(wait=True)  \n",
    "        print(loc_id)\n",
    "\n",
    "    # realça a zona/distrito/subprefeitura escolhida\n",
    "    # folium.GeoJson(\n",
    "    #     selected_loc,\n",
    "    #     style_function=lambda feature: {\n",
    "    #         'weight': 0,\n",
    "    #         'color': 'black',\n",
    "    #         'fillOpacity': 0.1\n",
    "    #     }\n",
    "    # ).add_to(hexs_map)\n",
    "\n",
    "    folium.GeoJson(\n",
    "        filtered_hexs,\n",
    "        style_function=lambda feature: {\n",
    "            'weight': 0.5,\n",
    "            'color': 'black',\n",
    "            'fillColor': get_color(selected_hexs, feature['properties']['hex_id'], min_val, max_val, 'hex_id', 'count'),\n",
    "            'fillOpacity': 0.3\n",
    "        }\n",
    "    ).add_to(hexs_map)\n",
    "\n",
    "    # Limites geográficos (bounds) zona/distrito/subprefeitura para focar visualização (zoom)\n",
    "    bounds = selected_loc.geometry.total_bounds\n",
    "    sw = [bounds[1], bounds[0]]\n",
    "    ne = [bounds[3], bounds[2]]\n",
    "    hexs_map.fit_bounds([sw, ne])\n",
    "    folium.LayerControl().add_to(hexs_map)\n",
    "\n",
    "    with od_map_output:\n",
    "        od_map_output.clear_output(wait=True)\n",
    "        display(hexs_map)\n",
    "\n",
    "def on_value_change_od(change):\n",
    "    state['granularidade_od'] = change['new']\n",
    "    update_map_od(state['granularidade_od'])\n",
    "\n",
    "granularidade_od.observe(on_value_change_od, names='value')\n",
    "\n",
    "zone_dropdown_od.observe(lambda change: update_hexs(change['new']), names='value')\n",
    "distritos_dropdown_od.observe(lambda change: update_hexs(change['new']), names='value')\n",
    "subprefeituras_dropdown_od.observe(lambda change: update_hexs(change['new']), names='value')\n",
    "\n",
    "update_map_od(state['granularidade_od'])\n",
    "\n",
    "hexs_in_zones = gpd.sjoin(hexs, zonas_sp, how=\"inner\", predicate=\"intersects\")\n",
    "dfo_merged_zones = pd.merge(dfo, hexs_in_zones[['hex_id', 'NumeroZona', 'NomeZona']], left_on='hex_id', right_on='hex_id', how='inner')\n",
    "grouped_zones_hex = dfo_merged_zones.groupby(['hex_id', 'NumeroZona', 'NomeZona'])['count'].sum().reset_index()\n",
    "\n",
    "hexs_in_distritos = gpd.sjoin(hexs, distritos, how=\"inner\", predicate=\"intersects\")\n",
    "dfo_merged_distritos = pd.merge(dfo, hexs_in_distritos[['hex_id', 'ds_codigo', 'ds_nome']], left_on='hex_id', right_on='hex_id', how='inner')\n",
    "grouped_distritos_hex = dfo_merged_distritos.groupby(['hex_id', 'ds_codigo', 'ds_nome'])['count'].sum().reset_index()\n",
    "\n",
    "hexs_in_subprefeituras = gpd.sjoin(hexs, subprefeituras, how=\"inner\", predicate=\"intersects\")\n",
    "dfo_merged_subprefeituras = pd.merge(dfo, hexs_in_subprefeituras[['hex_id', 'sp_codigo', 'sp_nome']], left_on='hex_id', right_on='hex_id', how='inner')\n",
    "grouped_subprefeituras_hex = dfo_merged_subprefeituras.groupby(['hex_id', 'sp_codigo', 'sp_nome'])['count'].sum().reset_index()\n"
   ]
  },
  {
   "cell_type": "code",
   "execution_count": 8,
   "id": "2c1f4a03-9f01-4d43-bb70-0b5f3aafbde9",
   "metadata": {},
   "outputs": [
    {
     "name": "stdout",
     "output_type": "stream",
     "text": [
      "         edgeUID  NumeroZona              NomeZona  total_trip_count\n",
      "0      325297019         299              Marsilac                15\n",
      "1      325297020         299              Marsilac                15\n",
      "2      325297116         299              Marsilac                 5\n",
      "3      325297118         299              Marsilac                15\n",
      "4      325297122         299              Marsilac                15\n",
      "...          ...         ...                   ...               ...\n",
      "88612  326502790         207  Jardim das Oliveiras                95\n",
      "88613  326502792         207  Jardim das Oliveiras                95\n",
      "88614  326502793         207  Jardim das Oliveiras                80\n",
      "88615  326502794         207  Jardim das Oliveiras                80\n",
      "88616  326502796         207  Jardim das Oliveiras                95\n",
      "\n",
      "[88617 rows x 4 columns]\n",
      "               hex_id  NumeroZona      NomeZona  count\n",
      "0     88a8100001fffff         285      Pedreira      0\n",
      "1     88a8100003fffff         285      Pedreira     25\n",
      "2     88a8100005fffff         285      Pedreira     15\n",
      "3     88a8100007fffff         285      Pedreira     20\n",
      "4     88a8100011fffff         284  Mar Paulista      5\n",
      "...               ...         ...           ...    ...\n",
      "3250  88a8108c33fffff         299      Marsilac      0\n",
      "3251  88a8108da3fffff         298   Parelheiros      0\n",
      "3252  88a8108dbdfffff         298   Parelheiros      5\n",
      "3253  88a8108ddbfffff         299      Marsilac     25\n",
      "3254  88a8108de1fffff         299      Marsilac      0\n",
      "\n",
      "[3255 rows x 4 columns]\n"
     ]
    }
   ],
   "source": [
    "print(grouped_edges_in_zones)\n",
    "print(grouped_zones_hex)\n",
    "#trips_hex.to_csv('hexxx.csv', index=False)"
   ]
  },
  {
   "cell_type": "markdown",
   "id": "1e2f58df-2e19-4520-baad-f3c510d5ee4a",
   "metadata": {},
   "source": [
    "<h2>Quartis</h2>"
   ]
  },
  {
   "cell_type": "code",
   "execution_count": 9,
   "id": "e3b9b599-32fd-4a4a-a7cf-f22f7302a028",
   "metadata": {},
   "outputs": [
    {
     "data": {
      "application/vnd.jupyter.widget-view+json": {
       "model_id": "5f0384f9f5c043fdafe413ae22d11fbc",
       "version_major": 2,
       "version_minor": 0
      },
      "text/plain": [
       "RadioButtons(description='Quartil:', options=('Q1', 'Q2', 'Q3', 'Q4'), value='Q1')"
      ]
     },
     "metadata": {},
     "output_type": "display_data"
    },
    {
     "data": {
      "application/vnd.jupyter.widget-view+json": {
       "model_id": "f74d437231134fb38fe902c1953dd3d2",
       "version_major": 2,
       "version_minor": 0
      },
      "text/plain": [
       "Output()"
      ]
     },
     "metadata": {},
     "output_type": "display_data"
    }
   ],
   "source": [
    "quartis = widgets.RadioButtons(\n",
    "    options=['Q1', 'Q2', 'Q3', 'Q4'],\n",
    "    value='Q1',\n",
    "    description='Quartil:',\n",
    ")\n",
    "\n",
    "quartile_map_output = Output()\n",
    "\n",
    "display(quartis, quartile_map_output)\n",
    "\n",
    "trips_per_edge = df.groupby('edge_uid').agg({'total_trip_count': 'sum'}).reset_index()\n",
    "trips_per_edge['quartile'] = pd.qcut(trips_per_edge['total_trip_count'], q=4, labels=['Q1', 'Q2', 'Q3', 'Q4'])\n",
    "edges_in_quartiles = pd.merge(edges, trips_per_edge[['edge_uid', 'quartile']], left_on='edgeUID', right_on='edge_uid', how='inner')\n",
    "\n",
    "quartile_colors = {\n",
    "    'Q1': 'green',\n",
    "    'Q2': 'blue',\n",
    "    'Q3': 'orange',\n",
    "    'Q4': 'red'\n",
    "}\n",
    "\n",
    "def update_quartile(change):\n",
    "    quartiles_map = folium.Map(location=[-23.5789, -46.6388], tiles=\"CartoDB Positron\", zoom_start=11)\n",
    "    selected_quartile = change['new']\n",
    "    \n",
    "    filtered_edges = edges_in_quartiles[edges_in_quartiles['quartile'] == selected_quartile]\n",
    "    \n",
    "    for _, row in filtered_edges.iterrows():\n",
    "        folium.GeoJson(\n",
    "            row['geometry'],\n",
    "            style_function=lambda feature, color=quartile_colors[selected_quartile]: {\n",
    "                'color': color,\n",
    "                'weight': 2,\n",
    "                'opacity': 1,\n",
    "            }\n",
    "        ).add_to(quartiles_map)\n",
    "\n",
    "    with quartile_map_output:\n",
    "        quartile_map_output.clear_output(wait=True)\n",
    "        display(quartiles_map)\n",
    "    \n",
    "quartis.observe(update_quartile, names='value')\n",
    "\n",
    "update_quartile({'new': quartis.value})"
   ]
  },
  {
   "cell_type": "markdown",
   "id": "aff3286c-f051-4522-bf5b-8444a89a0dcf",
   "metadata": {},
   "source": [
    "<h2>Velocidades Médias</h2>"
   ]
  },
  {
   "cell_type": "code",
   "execution_count": 14,
   "id": "862981f2-3c64-4a87-a746-8340c808df68",
   "metadata": {},
   "outputs": [
    {
     "data": {
      "application/vnd.jupyter.widget-view+json": {
       "model_id": "5ee0bf01153c4d50bfcf53fce27f7678",
       "version_major": 2,
       "version_minor": 0
      },
      "text/plain": [
       "RadioButtons(description='Faixas de velocidade em km/h:', options=('< 10', '10-15', '15-20', '20-25', '25-30',…"
      ]
     },
     "metadata": {},
     "output_type": "display_data"
    },
    {
     "data": {
      "application/vnd.jupyter.widget-view+json": {
       "model_id": "fb120a1ec43248f0871995059e48718c",
       "version_major": 2,
       "version_minor": 0
      },
      "text/plain": [
       "Output()"
      ]
     },
     "metadata": {},
     "output_type": "display_data"
    },
    {
     "data": {
      "application/vnd.jupyter.widget-view+json": {
       "model_id": "954db0633a0d4adab948e9fc3cafdf90",
       "version_major": 2,
       "version_minor": 0
      },
      "text/plain": [
       "Output()"
      ]
     },
     "metadata": {},
     "output_type": "display_data"
    },
    {
     "data": {
      "image/png": "[encoded data removed]",
      "text/plain": [
       "<Figure size 800x800 with 1 Axes>"
      ]
     },
     "metadata": {},
     "output_type": "display_data"
    }
   ],
   "source": [
    "speeds = widgets.RadioButtons(\n",
    "    options=['< 10', '10-15', '15-20', '20-25', '25-30', '> 30'],\n",
    "    value='< 10',\n",
    "    description='Faixas de velocidade em km/h:',\n",
    ")\n",
    "\n",
    "average_speed_map_output = Output()\n",
    "debug3 = Output()\n",
    "display(speeds, average_speed_map_output, debug3)\n",
    "\n",
    "def update_speed(change):\n",
    "    average_speed_map = folium.Map(location=[-23.5789, -46.6388], tiles=\"CartoDB Positron\", zoom_start=11)\n",
    "    speed_range = change['new']\n",
    "\n",
    "    if speed_range == '< 10':\n",
    "        sub_df = grouped_speed[grouped_speed['weighted_average'] < 10]\n",
    "    elif speed_range == '10-15':\n",
    "        sub_df = grouped_speed[(grouped_speed['weighted_average'] >= 10) & (grouped_speed['weighted_average'] < 15)]\n",
    "    elif speed_range == '15-20':\n",
    "        sub_df = grouped_speed[(grouped_speed['weighted_average'] >= 15) & (grouped_speed['weighted_average'] < 20)]\n",
    "    elif speed_range == '20-25':\n",
    "        sub_df = grouped_speed[(grouped_speed['weighted_average'] >= 20) & (grouped_speed['weighted_average'] < 25)]\n",
    "    elif speed_range == '25-30':\n",
    "        sub_df = grouped_speed[(grouped_speed['weighted_average'] >= 25) & (grouped_speed['weighted_average'] < 30)]\n",
    "    elif speed_range == '> 30':\n",
    "        sub_df = grouped_speed[grouped_speed['weighted_average'] > 30]\n",
    "\n",
    "    edges_by_speed = edges[edges['edgeUID'].isin(sub_df['edge_uid'])]\n",
    "\n",
    "    # with debug3:\n",
    "    #     debug3.clear_output(wait=True)\n",
    "    #     print(sub_df)\n",
    "    folium.GeoJson(\n",
    "        edges_by_speed,\n",
    "        style_function=lambda feature: {\n",
    "            'weight': 1,\n",
    "            'color': 'black',\n",
    "        }\n",
    "    ).add_to(average_speed_map)\n",
    "\n",
    "    with average_speed_map_output:\n",
    "        average_speed_map_output.clear_output(wait=True)\n",
    "        display(average_speed_map)\n",
    "\n",
    "def plot_chart(df):\n",
    "    df_u10 = grouped_speed[grouped_speed['weighted_average'] < 10]['total'].sum()\n",
    "    df_10_15 = grouped_speed[(grouped_speed['weighted_average'] >= 10) & (grouped_speed['weighted_average'] < 15)]['total'].sum()\n",
    "    df_15_20 = grouped_speed[(grouped_speed['weighted_average'] >= 15) & (grouped_speed['weighted_average'] < 20)]['total'].sum()\n",
    "    df_20_25 = grouped_speed[(grouped_speed['weighted_average'] >= 20) & (grouped_speed['weighted_average'] < 25)]['total'].sum()\n",
    "    df_25_30 = grouped_speed[(grouped_speed['weighted_average'] >= 25) & (grouped_speed['weighted_average'] < 30)]['total'].sum()\n",
    "    df_o30 = grouped_speed[grouped_speed['weighted_average'] > 30]['total'].sum()\n",
    "\n",
    "    totals = [df_u10, df_10_15, df_15_20, df_20_25, df_25_30, df_o30]\n",
    "    labels = ['< 10', '10-15', '15-20', '20-25', '25-30', '> 30']\n",
    "    \n",
    "    # Create the pie chart\n",
    "    plt.figure(figsize=(8, 8))\n",
    "    plt.pie(totals, labels=labels, autopct='%1.1f%%', startangle=140, colors=['#ffffcc', '#ffeb99', '#ffcc66', '#ff9966', '#cc6600', '#8c4a00'])\n",
    "    plt.title('Total Counts by Speed Range')\n",
    "    plt.axis('equal')\n",
    "    plt.show()\n",
    "\n",
    "def get_average_speed(df):\n",
    "    forward = df['forward_trip_count'] * df['forward_average_speed_meters_per_second']\n",
    "    reverse = df['reverse_trip_count'] * df['reverse_average_speed_meters_per_second']\n",
    "    df['total'] = df['forward_trip_count'] + df['reverse_trip_count']\n",
    "    df['average_speed'] = (forward + reverse) / df['total']\n",
    "\n",
    "def group_edges(df):\n",
    "    grouped = df.groupby('edge_uid').agg(weighted_average=('average_speed', \n",
    "                                         lambda x: (x * df.loc[x.index, 'total']).sum() / df.loc[x.index, 'total'].sum()), total=('total', 'sum')).reset_index()\n",
    "    grouped['weighted_average'] = grouped['weighted_average'] * 3.6 # m/s => km/h\n",
    "\n",
    "    return grouped\n",
    "    \n",
    "speed_df = df[['edge_uid', 'forward_trip_count', 'reverse_trip_count', \n",
    "               'forward_average_speed_meters_per_second', 'reverse_average_speed_meters_per_second']].copy()\n",
    "get_average_speed(speed_df)\n",
    "grouped_speed = group_edges(speed_df)\n",
    "plot_chart(grouped_speed)\n",
    "\n",
    "grouped_speed.to_csv('test.csv', index=False)\n",
    "\n",
    "speeds.observe(update_speed, names='value')\n",
    "update_speed({'new': speeds.value})"
   ]
  },
  {
   "cell_type": "code",
   "execution_count": 11,
   "id": "59fa36b7-279c-4730-8012-4588e37c8df2",
   "metadata": {},
   "outputs": [
    {
     "name": "stdout",
     "output_type": "stream",
     "text": [
      "Index(['edgeUID', 'osmId', 'geometry'], dtype='object')\n"
     ]
    }
   ],
   "source": [
    "print(edges.columns)"
   ]
  },
  {
   "cell_type": "code",
   "execution_count": 12,
   "id": "3842f483-abe8-48cc-b7dd-b5d8fbf3d06b",
   "metadata": {},
   "outputs": [
    {
     "data": {
      "application/vnd.jupyter.widget-view+json": {
       "model_id": "41fe848e483e458fbd8543fe263c9263",
       "version_major": 2,
       "version_minor": 0
      },
      "text/plain": [
       "SelectionRangeSlider(description='Período', index=(0, 68), layout=Layout(width='1000px'), options=(('Jan 2019'…"
      ]
     },
     "metadata": {},
     "output_type": "display_data"
    }
   ],
   "source": [
    "import datetime\n",
    "import ipywidgets as widgets\n",
    "\n",
    "# Create a list of dates from January 2019 to September 2024\n",
    "start_date = datetime.date(2019, 1, 1)\n",
    "end_date = datetime.date(2024, 9, 1)\n",
    "\n",
    "# Generate a list of month start dates\n",
    "dates = [start_date + datetime.timedelta(days=30 * i) for i in range((end_date.year - start_date.year) * 12 + (end_date.month - start_date.month) + 1)]\n",
    "\n",
    "# Format options for the slider\n",
    "options = [(i.strftime('%b %Y'), i) for i in dates]\n",
    "\n",
    "# Create a SelectionRangeSlider widget\n",
    "slider = widgets.SelectionRangeSlider(\n",
    "    options=options,\n",
    "    index=(0, len(options) - 1),  # Set the default range to include all months\n",
    "    description='Período',\n",
    "    disabled=False\n",
    ")\n",
    "\n",
    "slider.layout.width = '1000px'\n",
    "\n",
    "# Display the slider\n",
    "display(slider)"
   ]
  },
  {
   "cell_type": "code",
   "execution_count": null,
   "id": "6d1df1a8-8020-4d4d-96c8-715fc1cb0d41",
   "metadata": {},
   "outputs": [],
   "source": []
  }
 ],
 "metadata": {
  "kernelspec": {
   "display_name": "Python 3 (ipykernel)",
   "language": "python",
   "name": "python3"
  },
  "language_info": {
   "codemirror_mode": {
    "name": "ipython",
    "version": 3
   },
   "file_extension": ".py",
   "mimetype": "text/x-python",
   "name": "python",
   "nbconvert_exporter": "python",
   "pygments_lexer": "ipython3",
   "version": "3.12.6"
  }
 },
 "nbformat": 4,
 "nbformat_minor": 5
}
